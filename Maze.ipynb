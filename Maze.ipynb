{
 "cells": [
  {
   "cell_type": "code",
   "execution_count": 1,
   "id": "b21e1458",
   "metadata": {},
   "outputs": [],
   "source": [
    "%load_ext autoreload\n",
    "%autoreload 2\n",
    "import numpy as np\n",
    "import matplotlib.pyplot as plt\n",
    "from maze import *"
   ]
  },
  {
   "cell_type": "code",
   "execution_count": 2,
   "id": "e6c73948",
   "metadata": {},
   "outputs": [
    {
     "data": {
      "text/plain": [
       "[<matplotlib.lines.Line2D at 0x7fdbfa9a97d0>]"
      ]
     },
     "execution_count": 2,
     "metadata": {},
     "output_type": "execute_result"
    },
    {
     "data": {
      "image/png": "[encoded data removed]",
      "text/plain": [
       "<Figure size 640x480 with 1 Axes>"
      ]
     },
     "metadata": {},
     "output_type": "display_data"
    }
   ],
   "source": [
    "maze = Maze(\"pac_man_maze.png\")\n",
    "solution = maze.solve()\n",
    "maze.plot()\n",
    "\n",
    "solution = np.array(solution)\n",
    "plt.plot(solution[:, 1], solution[:, 0], c='C2')"
   ]
  },
  {
   "cell_type": "code",
   "execution_count": 3,
   "id": "cc6c88e6",
   "metadata": {},
   "outputs": [
    {
     "data": {
      "text/plain": [
       "True"
      ]
     },
     "execution_count": 3,
     "metadata": {},
     "output_type": "execute_result"
    }
   ],
   "source": [
    "class Person:\n",
    "    def __init__(self, name, age):\n",
    "        self.name = name\n",
    "        self.age = age\n",
    "    \n",
    "    def __eq__(self, other):\n",
    "        return (self.name == other.name) and (self.age == other.age)\n",
    "\n",
    "x1 = Person(\"Chris\", 25)\n",
    "x2 = Person(\"Chris\", 25)\n",
    "\n",
    "frontier = [Person(\"Chris\", 25), Person(\"James\", 100)]\n",
    "x1 in frontier"
   ]
  },
  {
   "cell_type": "code",
   "execution_count": 4,
   "id": "2fb59084",
   "metadata": {},
   "outputs": [
    {
     "data": {
      "text/plain": [
       "True"
      ]
     },
     "execution_count": 4,
     "metadata": {},
     "output_type": "execute_result"
    }
   ],
   "source": [
    "l1 = [[1, 2, 3]]\n",
    "l2 = [[1, 2, 3]]\n",
    "\n",
    "l1 == l2"
   ]
  },
  {
   "cell_type": "code",
   "execution_count": 5,
   "id": "76ca7394",
   "metadata": {},
   "outputs": [
    {
     "ename": "NameError",
     "evalue": "name 'i' is not defined",
     "output_type": "error",
     "traceback": [
      "\u001b[0;31m---------------------------------------------------------------------------\u001b[0m",
      "\u001b[0;31mNameError\u001b[0m                                 Traceback (most recent call last)",
      "Cell \u001b[0;32mIn[5], line 9\u001b[0m\n\u001b[1;32m      1\u001b[0m \u001b[38;5;66;03m# I've identified the space at (i, j)\u001b[39;00m\n\u001b[1;32m      2\u001b[0m \n\u001b[1;32m      3\u001b[0m \u001b[38;5;66;03m# Check i-1, j\u001b[39;00m\n\u001b[1;32m      4\u001b[0m \u001b[38;5;66;03m# i+1 j\u001b[39;00m\n\u001b[1;32m      5\u001b[0m \u001b[38;5;66;03m# i, j-1\u001b[39;00m\n\u001b[1;32m      6\u001b[0m \u001b[38;5;66;03m# i, j+1\u001b[39;00m\n\u001b[1;32m      8\u001b[0m \u001b[38;5;28;01mfor\u001b[39;00m (di, dj) \u001b[38;5;129;01min\u001b[39;00m [(\u001b[38;5;241m-\u001b[39m\u001b[38;5;241m1\u001b[39m, \u001b[38;5;241m0\u001b[39m), (\u001b[38;5;241m1\u001b[39m, \u001b[38;5;241m0\u001b[39m), (\u001b[38;5;241m0\u001b[39m, \u001b[38;5;241m-\u001b[39m\u001b[38;5;241m1\u001b[39m), (\u001b[38;5;241m0\u001b[39m, \u001b[38;5;241m1\u001b[39m)]:\n\u001b[0;32m----> 9\u001b[0m     i2 \u001b[38;5;241m=\u001b[39m i \u001b[38;5;241m+\u001b[39m di\n\u001b[1;32m     10\u001b[0m     j2 \u001b[38;5;241m=\u001b[39m j \u001b[38;5;241m+\u001b[39m dj\n",
      "\u001b[0;31mNameError\u001b[0m: name 'i' is not defined"
     ]
    }
   ],
   "source": [
    "# I've identified the space at (i, j)\n",
    "\n",
    "# Check i-1, j\n",
    "# i+1 j\n",
    "# i, j-1\n",
    "# i, j+1\n",
    "\n",
    "for (di, dj) in [(-1, 0), (1, 0), (0, -1), (0, 1)]:\n",
    "    i2 = i + di\n",
    "    j2 = j + dj"
   ]
  },
  {
   "cell_type": "code",
   "execution_count": null,
   "id": "66d627bc",
   "metadata": {},
   "outputs": [],
   "source": [
    "arr = [1, 2, 3]\n",
    "for i in range(len(arr)):\n",
    "    print(arr[i])\n",
    "    arr = [4, 5, 6]"
   ]
  },
  {
   "cell_type": "code",
   "execution_count": null,
   "id": "eee9f796",
   "metadata": {},
   "outputs": [],
   "source": [
    "m = {} # Python's implementation of a dictionary *is* a hash map\n",
    "m[\"key\"] = \"value\"\n",
    "m[\"cool\"] = \"rad\"\n",
    "# m[key] = value,     m.__setitem__(key, value)\n",
    "m.__setitem__(\"julian\", 9001)\n",
    "print(m)\n",
    "\n",
    "print(m[\"julian\"])\n",
    "print(m.__getitem__(\"julian\"))\n",
    "\n",
    "print(\"cool\" in m)\n",
    "print(m.__contains__(\"cool\"))\n",
    "\n",
    "if not self.__contains__(key):\n",
    "    add (key)"
   ]
  },
  {
   "cell_type": "code",
   "execution_count": null,
   "id": "04aa901f",
   "metadata": {},
   "outputs": [],
   "source": []
  }
 ],
 "metadata": {
  "kernelspec": {
   "display_name": "Python 3 (ipykernel)",
   "language": "python",
   "name": "python3"
  },
  "language_info": {
   "codemirror_mode": {
    "name": "ipython",
    "version": 3
   },
   "file_extension": ".py",
   "mimetype": "text/x-python",
   "name": "python",
   "nbconvert_exporter": "python",
   "pygments_lexer": "ipython3",
   "version": "3.11.3"
  }
 },
 "nbformat": 4,
 "nbformat_minor": 5
}
